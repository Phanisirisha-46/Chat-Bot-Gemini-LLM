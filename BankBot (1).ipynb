{
  "nbformat": 4,
  "nbformat_minor": 0,
  "metadata": {
    "colab": {
      "provenance": []
    },
    "kernelspec": {
      "name": "python3",
      "display_name": "Python 3"
    },
    "language_info": {
      "name": "python"
    }
  },
  "cells": [
    {
      "cell_type": "code",
      "metadata": {
        "id": "3ffc5911"
      },
      "source": [
        "# Install the necessary libraries\n",
        "!pip install -q -U google-generativeai openai"
      ],
      "execution_count": null,
      "outputs": []
    },
    {
      "cell_type": "code",
      "metadata": {
        "id": "52c070c4"
      },
      "source": [
        "# Initialize the Gemini API\n",
        "import google.generativeai as genai\n",
        "gemini_model = genai.GenerativeModel('gemini-1.5-flash-latest')"
      ],
      "execution_count": null,
      "outputs": []
    },
    {
      "cell_type": "code",
      "metadata": {
        "id": "03e3b7aa"
      },
      "source": [
        "\n",
        "from google.colab import userdata\n",
        "# Get the API key from Colab secrets\n",
        "GOOGLE_API_KEY=userdata.get('GOOGLE_API_KEY')\n",
        "# Configure the generativeai library with the API key\n",
        "genai.configure(api_key=GOOGLE_API_KEY)"
      ],
      "execution_count": null,
      "outputs": []
    },
    {
      "cell_type": "code",
      "metadata": {
        "id": "4a1e9e6e"
      },
      "source": [
        "# Define the function to ask the bank bot\n",
        "def ask_bank_bot(user_query):\n",
        "    # Define the system prompt to guide the LLM\n",
        "    system_prompt = \"You are a helpful banking assistant. Answer only bank-related customer service queries clearly and politely.\"\n",
        "\n",
        "    # Generate content using the Gemini model with the system prompt and user query\n",
        "    response = gemini_model.generate_content(f\"{system_prompt}\\n\\nUser: {user_query}\")\n",
        "\n",
        "    # Return the generated text response\n",
        "    return response.text"
      ],
      "execution_count": null,
      "outputs": []
    },
    {
      "cell_type": "code",
      "metadata": {
        "colab": {
          "base_uri": "https://localhost:8080/",
          "height": 89
        },
        "id": "1887f38b",
        "outputId": "3436e918-358b-4dea-9f0f-29e981ca47fc"
      },
      "source": [
        "# Get user input\n",
        "user_input = input(\"Ask your bank query: \")\n",
        "# Call the ask_bank_bot function and print the bot's response\n",
        "print(\"Bot:\", ask_bank_bot(user_input))"
      ],
      "execution_count": null,
      "outputs": [
        {
          "output_type": "stream",
          "name": "stdout",
          "text": [
            "Ask your bank query: how t update my name on passbook\n",
            "Bot: To update your name on your passbook, you'll need to visit your bank branch in person.  They will require proof of your name change, such as a marriage certificate, court order, or officially issued ID with your updated name.  Please bring a government-issued photo ID as well.  The specific documentation required may vary slightly depending on your bank's policies, so it's always best to call your branch beforehand to confirm what they need.\n",
            "\n"
          ]
        }
      ]
    }
  ]
}